{
 "cells": [
  {
   "cell_type": "markdown",
   "metadata": {},
   "source": [
    "## Acquisitor and Cleaner"
   ]
  },
  {
   "cell_type": "code",
   "execution_count": 1,
   "metadata": {
    "marvin_cell": "acquisitor"
   },
   "outputs": [
    {
     "name": "stdout",
     "output_type": "stream",
     "text": [
      "[nltk_data] Downloading package stopwords to\n",
      "[nltk_data]     /home/vinicius/nltk_data...\n",
      "[nltk_data]   Package stopwords is already up-to-date!\n"
     ]
    }
   ],
   "source": [
    "from marvin_python_toolbox.common.data import MarvinData\n",
    "import pandas as pd\n",
    "import nltk\n",
    "from nltk.corpus import stopwords\n",
    "from nltk.tokenize import word_tokenize\n",
    "\n",
    "initial_dataset = pd.read_csv(\n",
    "    MarvinData.download_file(\"https://s3.amazonaws.com/automl-example/produtos.csv\"),\n",
    "    delimiter=\";\", encoding='utf-8')\n",
    "\n",
    "\n",
    "nltk.download('stopwords')\n",
    "stop_words = stopwords.words('portuguese')\n",
    "\n",
    "def remove_stop_words(line):\n",
    "    return ' '.join([w for w in word_tokenize(line) if not w in stop_words])\n",
    "\n",
    "initial_dataset[\"text\"] = initial_dataset[\"nome\"] + \" \" + initial_dataset[\"descricao\"]\n",
    "initial_dataset.drop([\"descricao\", \"nome\"], axis=1, inplace=True)\n",
    "initial_dataset.dropna(inplace=True)\n",
    "initial_dataset['text'] = initial_dataset['text'].apply(remove_stop_words)\n",
    "\n",
    "marvin_initial_dataset = initial_dataset"
   ]
  },
  {
   "cell_type": "markdown",
   "metadata": {},
   "source": [
    "# Training preparator"
   ]
  },
  {
   "cell_type": "code",
   "execution_count": 2,
   "metadata": {
    "marvin_cell": "tpreparator"
   },
   "outputs": [],
   "source": [
    "from sklearn.feature_extraction.text import CountVectorizer\n",
    "from sklearn.model_selection import train_test_split\n",
    "\n",
    "X_train,X_test,y_train,y_test = train_test_split(\n",
    "    marvin_initial_dataset[\"text\"], \n",
    "    marvin_initial_dataset[\"categoria\"], \n",
    "    test_size = 0.2, \n",
    "    random_state = 10\n",
    ")\n",
    "\n",
    "vect = CountVectorizer()\n",
    "vect.fit(marvin_initial_dataset[\"text\"])\n",
    "\n",
    "marvin_dataset = {\n",
    "    \"X_train\": vect.transform(X_train),\n",
    "    \"X_test\": vect.transform(X_test),\n",
    "    \"y_train\": y_train,\n",
    "    \"y_test\" : y_test,\n",
    "    \"vect\": vect\n",
    "}"
   ]
  },
  {
   "cell_type": "markdown",
   "metadata": {},
   "source": [
    "## Training "
   ]
  },
  {
   "cell_type": "code",
   "execution_count": 3,
   "metadata": {
    "marvin_cell": "trainer"
   },
   "outputs": [],
   "source": [
    "from sklearn.naive_bayes import MultinomialNB\n",
    "\n",
    "clf = MultinomialNB()\n",
    "clf.fit(marvin_dataset[\"X_train\"], marvin_dataset[\"y_train\"])\n",
    "\n",
    "marvin_model = {\n",
    "    \"clf\" : clf,\n",
    "    \"vect\": marvin_dataset[\"vect\"]\n",
    "}"
   ]
  },
  {
   "cell_type": "markdown",
   "metadata": {},
   "source": [
    "## Evaluation"
   ]
  },
  {
   "cell_type": "code",
   "execution_count": 4,
   "metadata": {
    "marvin_cell": "evaluator"
   },
   "outputs": [
    {
     "name": "stdout",
     "output_type": "stream",
     "text": [
      "             precision    recall  f1-score   support\n",
      "\n",
      "  brinquedo       0.98      0.99      0.98       140\n",
      "       game       0.97      0.96      0.96       126\n",
      "      livro       0.97      0.98      0.98       156\n",
      "  maquiagem       1.00      0.99      1.00       162\n",
      "\n",
      "avg / total       0.98      0.98      0.98       584\n",
      "\n"
     ]
    }
   ],
   "source": [
    "from sklearn.metrics import classification_report\n",
    "\n",
    "\n",
    "y_prediction = marvin_model[\"clf\"].predict(marvin_dataset[\"X_test\"])\n",
    "\n",
    "report = classification_report(y_prediction, marvin_dataset[\"y_test\"])\n",
    "\n",
    "print(report)\n",
    "\n",
    "marvin_metrics = report"
   ]
  },
  {
   "cell_type": "markdown",
   "metadata": {},
   "source": [
    "## Predictor preparation"
   ]
  },
  {
   "cell_type": "code",
   "execution_count": 6,
   "metadata": {},
   "outputs": [],
   "source": [
    "input_message = {\"text\": \"\"\"God of War\"\"\"}"
   ]
  },
  {
   "cell_type": "code",
   "execution_count": 7,
   "metadata": {
    "marvin_cell": "ppreparator"
   },
   "outputs": [],
   "source": [
    "input_message = marvin_model[\"vect\"].transform([input_message[\"text\"]])"
   ]
  },
  {
   "cell_type": "markdown",
   "metadata": {},
   "source": [
    "## Predictor"
   ]
  },
  {
   "cell_type": "code",
   "execution_count": 8,
   "metadata": {
    "marvin_cell": "predictor"
   },
   "outputs": [],
   "source": [
    "final_prediction = marvin_model[\"clf\"].predict(input_message)[0]"
   ]
  },
  {
   "cell_type": "code",
   "execution_count": 9,
   "metadata": {},
   "outputs": [
    {
     "name": "stdout",
     "output_type": "stream",
     "text": [
      "game\n"
     ]
    }
   ],
   "source": [
    "print(final_prediction)"
   ]
  },
  {
   "cell_type": "code",
   "execution_count": null,
   "metadata": {},
   "outputs": [],
   "source": []
  }
 ],
 "metadata": {
  "kernelspec": {
   "display_name": "Python 2",
   "language": "python",
   "name": "python2"
  },
  "language_info": {
   "codemirror_mode": {
    "name": "ipython",
    "version": 2
   },
   "file_extension": ".py",
   "mimetype": "text/x-python",
   "name": "python",
   "nbconvert_exporter": "python",
   "pygments_lexer": "ipython2",
   "version": "2.7.14"
  }
 },
 "nbformat": 4,
 "nbformat_minor": 2
}
